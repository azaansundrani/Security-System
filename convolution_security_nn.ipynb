{
 "cells": [
  {
   "cell_type": "code",
   "execution_count": 2,
   "id": "5d4c2013-6b08-4d18-a18a-ee73a920a36e",
   "metadata": {},
   "outputs": [
    {
     "name": "stderr",
     "output_type": "stream",
     "text": [
      "Matplotlib is building the font cache; this may take a moment.\n"
     ]
    }
   ],
   "source": [
    "import cv2\n",
    "import numpy as np\n",
    "import tensorflow as tf\n",
    "from tensorflow import keras\n",
    "from tensorflow.keras.preprocessing.image import ImageDataGenerator\n",
    "from tensorflow.keras.preprocessing import image"
   ]
  },
  {
   "cell_type": "code",
   "execution_count": null,
   "id": "06dcd10b-da90-429a-ad44-7cd049c4978d",
   "metadata": {},
   "outputs": [],
   "source": [
    "#load images from folder\n",
    "#augment images with transforms here :)\n",
    "train_datagen = ImageDataGenerator(\n",
    "    rescale=1/255,\n",
    "    rotation_range=40,\n",
    "    width_shift_range=0.2,\n",
    "    height_shift_range=0.2,\n",
    "    shear_range=0.2,\n",
    "    zoom_range=0.2,\n",
    "    horizontal_flip=True,\n",
    "    fill_mode='nearest',\n",
    ")\n",
    "\n",
    "train_generator = train_datagen.flow_from_directory(\"./training\",target_size=(300,300),class_mode='binary')\n",
    "\n",
    "#validation data, used while training\n",
    "validation_datagen = ImageDataGenerator(rescale=1/255)\n",
    "validation_generator = train_datagen.flow_from_directory(\n",
    "    \"./validation\",\n",
    "    target_size=(300,300),\n",
    "    class_mode='binary',\n",
    ")\n",
    "\n",
    "#callback to stop training when 80% accuracy reached on validation set\n",
    "class myCallback(tf.keras.callbacks.Callback):\n",
    "    def on_epoch_end(self,epoch,logs={}):\n",
    "        if(logs.get('val_accuracy')>0.80):\n",
    "            print(\"\\nAccuracy reached 80%, stopping training\")\n",
    "            self.model.stop_training = True\n",
    "callbacks = myCallback()"
   ]
  },
  {
   "cell_type": "code",
   "execution_count": null,
   "id": "a635b960-8018-45e1-afdd-d9bc8793879e",
   "metadata": {},
   "outputs": [],
   "source": [
    "#create model\n",
    "model = tf.keras.models.Sequential([\n",
    "    #a bunch of convolution and pooling layers to filter down the image to essential features (hopefully)\n",
    "    tf.keras.layers.Conv2D(16, (3,3), activation='relu', input_shape=(300,300,3)),\n",
    "    tf.keras.layers.MaxPooling2D(2,2),\n",
    "    tf.keras.layers.Conv2D(32, (3,3), activation='relu'),\n",
    "    tf.keras.layers.MaxPooling2D(2,2),\n",
    "    tf.keras.layers.Conv2D(64, (3,3), activation='relu'),\n",
    "    tf.keras.layers.MaxPooling2D(2,2),\n",
    "    tf.keras.layers.Conv2D(64, (3,3), activation='relu'),\n",
    "    tf.keras.layers.MaxPooling2D(2,2),\n",
    "    tf.keras.layers.Conv2D(64, (3,3), activation='relu'),\n",
    "    tf.keras.layers.MaxPooling2D(2,2),\n",
    "    tf.keras.layers.Flatten(),\n",
    "    tf.keras.layers.Dense(512, activation='relu'),\n",
    "    #dropout for regularization (this really impacted model performance)\n",
    "    tf.keras.layers.Dropout(0.2),\n",
    "    #sigmoid drives values towards 0 and 1 for binary classification problems\n",
    "    tf.keras.layers.Dense(1,activation='sigmoid'),\n",
    "])\n",
    "model.summary()"
   ]
  },
  {
   "cell_type": "code",
   "execution_count": null,
   "id": "eef56995-b5de-4d39-9e55-1d91666ef3f4",
   "metadata": {},
   "outputs": [],
   "source": [
    "#compile model with rmsprop optimizer\n",
    "model.compile(loss='binary_crossentropy',\n",
    "              optimizer=tf.keras.optimizers.RMSprop(learning_rate=0.001),\n",
    "              metrics=['accuracy'])"
   ]
  },
  {
   "cell_type": "code",
   "execution_count": null,
   "id": "cab91171-dac3-41ed-9b4e-1096ac13fe1a",
   "metadata": {},
   "outputs": [],
   "source": [
    "#train model\n",
    "history = model.fit(train_generator, epochs=20, validation_data=validation_generator, callbacks=callbacks)"
   ]
  },
  {
   "cell_type": "code",
   "execution_count": null,
   "id": "c4923470-7ab7-48b9-b427-dbb25a377640",
   "metadata": {},
   "outputs": [],
   "source": [
    "#test on custom images\n",
    "img = image.load_img(\"./custom/visible/2.png\", target_size=(300,300))\n",
    "x = image.img_to_array(img)\n",
    "x = np.expand_dims(x,axis=0)\n",
    "\n",
    "image_tensor = np.vstack([x])\n",
    "classes = model.predict(image_tensor)\n",
    "\n",
    "print(train_generator.class_indices)\n",
    "print(classes)\n",
    "if classes[0]>0.5:\n",
    "    print(\"is visible\")\n",
    "else:\n",
    "    print(\"is not visible\")"
   ]
  },
  {
   "cell_type": "code",
   "execution_count": 3,
   "id": "192cf4dc-cbaf-4c80-8973-a62f1ffff867",
   "metadata": {},
   "outputs": [
    {
     "name": "stderr",
     "output_type": "stream",
     "text": [
      "2024-07-29 16:03:26.777 Python[39484:1582767] WARNING: Secure coding is not enabled for restorable state! Enable secure coding by implementing NSApplicationDelegate.applicationSupportsSecureRestorableState: and returning YES.\n"
     ]
    }
   ],
   "source": [
    "#Take video input and use the model to determine if an intruder exists\n",
    "vid = cv2.VideoCapture(\"./out.mp4\")\n",
    "while(vid.isOpened()):\n",
    "    ret, frame = vid.read()\n",
    "    if ret == True:\n",
    "        cv2.imshow('frame',frame)\n",
    "        if cv2.waitKey(1) & 0xFF == ord('q'):\n",
    "            break\n",
    "    else:\n",
    "        vid.release()\n",
    "        cv2.destroyAllWindows()\n",
    "        break\n",
    "vid.release()\n",
    "cv2.destroyAllWindows()\n",
    "\n",
    "#intruder = False\n",
    "#video -> frames -> model(frame)\n",
    "#if model(frame) == visible:\n",
    "#intruder = True\n",
    "#else:\n",
    "#continue\n",
    "#return intruder"
   ]
  },
  {
   "cell_type": "code",
   "execution_count": null,
   "id": "3244aa97-2b70-4348-abca-d6e7d2b9f25a",
   "metadata": {},
   "outputs": [],
   "source": [
    "#save model to disk\n",
    "model.save(\"SecurityModel.keras\")"
   ]
  },
  {
   "cell_type": "code",
   "execution_count": null,
   "id": "5f05295f-0cc6-4040-aa6f-352390b7d888",
   "metadata": {},
   "outputs": [],
   "source": [
    "#load it and create a single function that takes a file and outputs a prediction\n",
    "loaded_model = tf.keras.models.load_model('SecurityModelFinal.keras')\n",
    "\n",
    "def classify(imgPath):\n",
    "    #preprocess image into tensor\n",
    "    img = image.load_img(imgPath, target_size=(300,300))\n",
    "    x = image.img_to_array(img)\n",
    "    x = np.expand_dims(x,axis=0)\n",
    "    tensor = np.vstack([x])\n",
    "    #classify tensor\n",
    "    classes = model.predict(tensor)\n",
    "    if classes[0]>0.5:\n",
    "        print(\"model prediction: is visible\")\n",
    "        return True\n",
    "    else:\n",
    "        print(\"model prediction: is not visible\")\n",
    "        return False\n"
   ]
  },
  {
   "cell_type": "code",
   "execution_count": null,
   "id": "0ab83b26-0b96-48e6-b874-f8a0ee99ffd2",
   "metadata": {},
   "outputs": [],
   "source": [
    "#use loaded_model\n",
    "classify(\"custom/visible/3.png\")\n",
    "classify(\"custom/not_visible/5.png\")"
   ]
  },
  {
   "cell_type": "code",
   "execution_count": null,
   "id": "76d482a1-e56d-4acb-9956-3240c254e581",
   "metadata": {},
   "outputs": [],
   "source": []
  }
 ],
 "metadata": {
  "kernelspec": {
   "display_name": "Python 3 (ipykernel)",
   "language": "python",
   "name": "python3"
  },
  "language_info": {
   "codemirror_mode": {
    "name": "ipython",
    "version": 3
   },
   "file_extension": ".py",
   "mimetype": "text/x-python",
   "name": "python",
   "nbconvert_exporter": "python",
   "pygments_lexer": "ipython3",
   "version": "3.12.4"
  }
 },
 "nbformat": 4,
 "nbformat_minor": 5
}
